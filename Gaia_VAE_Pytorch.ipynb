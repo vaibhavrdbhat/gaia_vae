{
 "cells": [
  {
   "cell_type": "code",
   "execution_count": 1,
   "metadata": {},
   "outputs": [],
   "source": [
    "import pandas as pd\n",
    "import numpy as np\n",
    "import numpy.ma as ma\n",
    "from scipy.optimize import least_squares\n",
    "from scipy.optimize import minimize\n",
    "from sklearn.preprocessing import StandardScaler\n",
    "from sklearn.preprocessing import MinMaxScaler\n",
    "from sklearn.preprocessing import RobustScaler\n",
    "from astropy.io.votable import parse\n",
    "import matplotlib.pyplot as plt\n",
    "import matplotlib.patches as mpatches\n",
    "import seaborn as sns\n",
    "import math\n",
    "import os\n",
    "from datetime import datetime\n",
    "import theano.tensor as tt\n",
    "import progressbar as pbar\n",
    "import time\n",
    "\n",
    "import torch\n",
    "import torch.nn as nn\n",
    "import torch.nn.functional as F\n",
    "import torch.optim as optim\n",
    "\n",
    "# Default graph settings\n",
    "plt.rcParams[\"figure.figsize\"] = (12,8)\n",
    "plt.rcParams['legend.fontsize'] = 15"
   ]
  },
  {
   "cell_type": "code",
   "execution_count": 5,
   "metadata": {},
   "outputs": [],
   "source": [
    "from torch.utils.tensorboard import SummaryWriter\n",
    "\n",
    "# default `log_dir` is \"runs\" - we'll be more specific here\n",
    "tb_writer = SummaryWriter('runs/')"
   ]
  },
  {
   "cell_type": "code",
   "execution_count": 3,
   "metadata": {},
   "outputs": [],
   "source": [
    "use_full_data = True"
   ]
  },
  {
   "cell_type": "markdown",
   "metadata": {},
   "source": [
    "```SQL\n",
    "SELECT\n",
    "ra,                ra_error,\n",
    "dec,               dec_error,\n",
    "pmra,              pmra_error,\n",
    "pmdec,             pmdec_error,\n",
    "parallax,          parallax_error,\n",
    "phot_g_mean_flux,  phot_g_mean_flux_error,\n",
    "phot_bp_mean_flux, phot_bp_mean_flux_error,\n",
    "phot_rp_mean_flux, phot_rp_mean_flux_error,\n",
    "bp_rp,\n",
    "bp_g,\n",
    "g_rp,\n",
    "radial_velocity,   radial_velocity_error,\n",
    "teff_val,\n",
    "a_g_val,\n",
    "radius_val,\n",
    "lum_val\n",
    "\n",
    "FROM gaiadr2.gaia_source\n",
    "\n",
    "WHERE\n",
    "ra IS NOT NULL AND ra_error IS NOT NULL\n",
    "AND dec IS NOT NULL AND dec_error IS NOT NULL\n",
    "AND pmra IS NOT NULL AND pmra_error IS NOT NULL\n",
    "AND pmdec IS NOT NULL AND pmdec_error IS NOT NULL\n",
    "AND parallax IS NOT NULL AND parallax_error IS NOT NULL\n",
    "AND phot_g_mean_flux IS NOT NULL AND phot_g_mean_flux_error IS NOT NULL\n",
    "AND phot_bp_mean_flux IS NOT NULL AND phot_bp_mean_flux_error IS NOT NULL\n",
    "AND phot_rp_mean_flux IS NOT NULL AND phot_rp_mean_flux_error IS NOT NULL\n",
    "AND bp_rp IS NOT NULL\n",
    "AND bp_g IS NOT NULL\n",
    "AND g_rp IS NOT NULL\n",
    "AND radial_velocity IS NOT NULL AND radial_velocity_error IS NOT NULL\n",
    "AND teff_val IS NOT NULL\n",
    "AND a_g_val IS NOT NULL\n",
    "AND radius_val IS NOT NULL\n",
    "AND lum_val IS NOT NULL\n",
    "```"
   ]
  },
  {
   "cell_type": "code",
   "execution_count": 7,
   "metadata": {},
   "outputs": [
    {
     "name": "stdout",
     "output_type": "stream",
     "text": [
      "Reloading data...\n",
      "ra\n",
      "dec\n",
      "pmra\n",
      "pmdec\n",
      "parallax\n",
      "phot_g_mean_flux\n",
      "phot_bp_mean_flux\n",
      "phot_rp_mean_flux\n",
      "bp_rp\n",
      "bp_g\n",
      "g_rp\n",
      "radial_velocity\n",
      "teff_val\n",
      "a_g_val\n",
      "radius_val\n",
      "lum_val\n",
      "\n",
      "Total data points: 4193907\n",
      "Number of features per point: 16\n"
     ]
    }
   ],
   "source": [
    "# all_data = parse('queries/query1_full.vot' if use_full_data\n",
    "#                  else 'queries/query1_smallversion500k.vot')\n",
    "\n",
    "data_path = 'queries/query1_full_no_errors.vot'\n",
    "\n",
    "if not os.path.exists(\"queries/data.npz\") or not os.path.exists(\"queries/data_feature_dict.npy\"):\n",
    "    print(\"Importing fresh data and parsing...\")\n",
    "    all_data = parse(data_path)\n",
    "    d_table  = all_data.get_first_table()\n",
    "    data     = np.array(d_table.array)\n",
    "    \n",
    "    feature_id_dict = {}\n",
    "    i = 0\n",
    "    for f in d_table.fields:\n",
    "        print(f.ID)\n",
    "        feature_id_dict[i] = f.ID\n",
    "        feature_id_dict[f.ID] = i\n",
    "        i += 1\n",
    "    \n",
    "    np.savez(open(\"queries/data.npz\",\"wb\"), data=data)\n",
    "    np.save('queries/data_feature_dict.npy', feature_id_dict) \n",
    "else:\n",
    "    print(\"Reloading data...\")\n",
    "    data = np.load(open(\"queries/data.npz\",\"rb\")).get('data')\n",
    "    feature_id_dict = np.load('queries/data_feature_dict.npy',allow_pickle='TRUE').item()\n",
    "    for f in feature_id_dict:\n",
    "        if not isinstance(f, int):\n",
    "            print(f)\n",
    "            \n",
    "print(\"\\nTotal data points:\", len(data))\n",
    "num_fields = len(data[0])\n",
    "print('Number of features per point:', num_fields)"
   ]
  },
  {
   "cell_type": "code",
   "execution_count": 8,
   "metadata": {},
   "outputs": [
    {
     "name": "stderr",
     "output_type": "stream",
     "text": [
      "100% (4193907 of 4193907) |##############| Elapsed Time: 0:00:57 Time:  0:00:57\n"
     ]
    },
    {
     "name": "stdout",
     "output_type": "stream",
     "text": [
      "2514428 training points, 839425 validation points, 840054 test points.\n"
     ]
    }
   ],
   "source": [
    "### Split data into training, validation, and testing sets (~60/20/20)\n",
    "x_train = []\n",
    "x_test  = []\n",
    "x_val   = []\n",
    "\n",
    "for star in pbar.progressbar(data):\n",
    "    s = np.array([float(i) for i in star])\n",
    "    if (np.random.random() >= 0.6):\n",
    "        if (np.random.random() >= 0.5):\n",
    "            x_test.append(s)\n",
    "        else:\n",
    "            x_val.append(s)\n",
    "    else:\n",
    "        x_train.append(s)\n",
    "        \n",
    "x_train = np.array(x_train)\n",
    "x_test  = np.array(x_test)\n",
    "x_val   = np.array(x_val)\n",
    "        \n",
    "x_test_T = x_test.T\n",
    "\n",
    "print(len(x_train), \"training points,\",\n",
    "      len(x_val),   \"validation points,\",\n",
    "      len(x_test),  \"test points.\")"
   ]
  },
  {
   "cell_type": "code",
   "execution_count": 9,
   "metadata": {},
   "outputs": [],
   "source": [
    "### SCALE DATA\n",
    "\n",
    "scaler = RobustScaler() #MinMaxScaler() # StandardScaler()\n",
    "x_train_norm = scaler.fit_transform(x_train)\n",
    "x_test_norm  = scaler.transform(x_test)\n",
    "x_val_norm   = scaler.transform(x_val)\n",
    "\n",
    "\n",
    "x_train_norm_tensor = torch.from_numpy(x_train_norm)\n",
    "x_test_norm_tensor  = torch.from_numpy(x_test_norm)\n",
    "x_val_norm_tensor   = torch.from_numpy(x_val_norm)"
   ]
  },
  {
   "cell_type": "code",
   "execution_count": 10,
   "metadata": {},
   "outputs": [
    {
     "data": {
      "text/plain": [
       "644746"
      ]
     },
     "execution_count": 10,
     "metadata": {},
     "output_type": "execute_result"
    }
   ],
   "source": [
    "### Just counting the number of stars with all fields present, no purpose right now\n",
    "ct = 0\n",
    "for star in x_train_norm:\n",
    "    counted = False\n",
    "    for val in star:\n",
    "        if not counted and abs(val) > 3:\n",
    "            ct += 1\n",
    "            counted = True\n",
    "            \n",
    "ct"
   ]
  },
  {
   "cell_type": "code",
   "execution_count": 32,
   "metadata": {},
   "outputs": [],
   "source": [
    "### TRAINING LOOP\n",
    "def train(model, num_epochs, batch_size, lr_scheduler, loss_fn):\n",
    "    # Data loaders\n",
    "    train_loader = torch.utils.data.DataLoader(x_train_norm_tensor,\n",
    "                                               batch_size=batch_size,\n",
    "                                               shuffle=True,\n",
    "                                               drop_last=True)\n",
    "    valid_loader = torch.utils.data.DataLoader(x_val_norm_tensor,\n",
    "                                               batch_size=batch_size,\n",
    "                                               shuffle=False,\n",
    "                                               drop_last=True)\n",
    "    for epoch in range(num_epochs):\n",
    "        training_epoch_loss = 0\n",
    "        validation_loss = 0\n",
    "        print(\"Starting Epoch #{}\".format(epoch + 1))\n",
    "        for batch_features in pbar.progressbar(train_loader):\n",
    "            # print(batch_features.shape)\n",
    "            batch_features = batch_features.to(device)\n",
    "            \n",
    "            # reset the gradients back to zero\n",
    "            # PyTorch accumulates gradients on subsequent backward passes\n",
    "            optimizer.zero_grad()\n",
    "\n",
    "            # compute reconstructions\n",
    "            outputs = model(batch_features)\n",
    "\n",
    "            # compute training reconstruction loss\n",
    "            training_loss = loss_fn(outputs, batch_features)\n",
    "\n",
    "            # compute accumulated gradients\n",
    "            training_loss.backward()\n",
    "\n",
    "            # perform parameter update based on current gradients\n",
    "            optimizer.step()\n",
    "\n",
    "            # add the mini-batch training loss to epoch loss\n",
    "            training_epoch_loss += training_loss.item()\n",
    "            \n",
    "        lr_scheduler.step()\n",
    "\n",
    "        # compute the epoch training loss\n",
    "        training_epoch_loss /= len(train_loader)\n",
    "\n",
    "        # compute the epoch validation loss\n",
    "        for batch_features in valid_loader:\n",
    "            \n",
    "            pred = model(batch_features)\n",
    "            val_loss = loss_fn(pred, batch_features)\n",
    "            validation_loss += val_loss.item()\n",
    "        validation_loss = validation_loss / len(valid_loader)\n",
    "\n",
    "        # display the epoch loss\n",
    "        print(\"epoch {}/{}, training loss = {:.8f}, val loss = {:.8f}\\n\".format(\n",
    "            epoch + 1,\n",
    "            num_epochs,\n",
    "            training_epoch_loss,\n",
    "            validation_loss))\n",
    "    print(\"Done training!\")"
   ]
  },
  {
   "cell_type": "code",
   "execution_count": 52,
   "metadata": {},
   "outputs": [],
   "source": [
    "### MODEL\n",
    "dropout = 0.0\n",
    "class AE(nn.Module):\n",
    "    def __init__(self):\n",
    "        super(AE,self).__init__()\n",
    "\n",
    "        self.encoder = nn.Sequential(\n",
    "            nn.Linear(16, 16, bias = False), # no bias before batchnorm\n",
    "            nn.ReLU(),\n",
    "            nn.BatchNorm1d(16),\n",
    "            nn.Dropout(dropout),\n",
    "            \n",
    "            nn.Linear(16, 15, bias = False),\n",
    "            nn.ReLU(),\n",
    "            nn.BatchNorm1d(15),\n",
    "            nn.Dropout(dropout),\n",
    "\n",
    "            nn.Linear(15, 14, bias = False),\n",
    "            nn.ReLU(),\n",
    "            nn.BatchNorm1d(14),\n",
    "            nn.Dropout(dropout),\n",
    "\n",
    "            nn.Linear(14, 13, bias = False),\n",
    "            nn.ReLU(),\n",
    "            nn.BatchNorm1d(13),\n",
    "            nn.Dropout(dropout),\n",
    "\n",
    "            nn.Linear(13, 12, bias = False),\n",
    "            nn.ReLU(),\n",
    "            nn.BatchNorm1d(12),\n",
    "            \n",
    "            nn.Linear(12, 11)) # bottleneck\n",
    "        \n",
    "        self.decoder = nn.Sequential(\n",
    "            nn.Linear(11, 12, bias = False),\n",
    "            nn.ReLU(),\n",
    "            nn.BatchNorm1d(12),\n",
    "\n",
    "            nn.Linear(12, 13, bias = False),\n",
    "            nn.ReLU(),\n",
    "            nn.BatchNorm1d(13),\n",
    "\n",
    "            nn.Linear(13, 14, bias = False),\n",
    "            nn.ReLU(),\n",
    "            nn.BatchNorm1d(14),\n",
    "\n",
    "            nn.Linear(14, 15, bias = False),\n",
    "            nn.ReLU(),\n",
    "            nn.BatchNorm1d(15),\n",
    "\n",
    "            nn.Linear(15, 16, bias = False),\n",
    "            nn.ReLU(),\n",
    "            nn.BatchNorm1d(16),\n",
    "\n",
    "            nn.Linear(16,16))\n",
    "            #nn.Sigmoid()\n",
    "#             nn.Tanh())\n",
    "        \n",
    "    def forward(self,x):\n",
    "        x = x.view(-1,16)\n",
    "        x = self.encoder(x)\n",
    "        x = self.decoder(x)\n",
    "        return x"
   ]
  },
  {
   "cell_type": "code",
   "execution_count": 53,
   "metadata": {},
   "outputs": [],
   "source": [
    "### use gpu if available\n",
    "device = torch.device(\"cuda\" if torch.cuda.is_available() else \"cpu\")\n",
    "\n",
    "### create a model and load it to device\n",
    "model_1 = AE().to(device).double()\n",
    "\n",
    "### create an optimizer object and its decay scheduler\n",
    "optimizer = optim.Adam(model_1.parameters(), lr=0.1)\n",
    "lr_sched  = optim.lr_scheduler.StepLR(optimizer=optimizer, step_size=6, gamma=0.6)"
   ]
  },
  {
   "cell_type": "code",
   "execution_count": 48,
   "metadata": {},
   "outputs": [],
   "source": [
    "### Send model to tensorboard\n",
    "tb_writer.add_graph(model_1, x_train_norm_tensor)\n",
    "tb_writer.close()"
   ]
  },
  {
   "cell_type": "code",
   "execution_count": 54,
   "metadata": {},
   "outputs": [],
   "source": [
    "### LOSS METRICS\n",
    "\n",
    "kl  = nn.KLDivLoss(reduction = 'batchmean')\n",
    "bce = nn.BCELoss()\n",
    "mse = nn.MSELoss()\n",
    "\n",
    "### HELPER CODE FOR PENALIZING SPECIFIC FEATURE STUFF IN LOSS FN\n",
    "\n",
    "def customNorm(scaler, feature_id, val):\n",
    "    return (val - scaler.center_[feature_id]) / scaler.scale_[feature_id]\n",
    "def customDenorm(scaler, feature_id, val):\n",
    "    return (val * scaler.scale_[feature_id]) + scaler.center_[feature_id]\n",
    "\n",
    "teff_zero_norm = customNorm(scaler, feature_id_dict['teff_val'], 0.0)\n",
    "ra_zero_norm = customNorm(scaler, feature_id_dict['ra'], 0.0)\n",
    "ra_360_norm = customNorm(scaler, feature_id_dict['ra'], 360.0)\n",
    "\n",
    "### LOSS FUNCTION\n",
    "\n",
    "def customLossFnGen(penalize = True):\n",
    "#     mse_ = mse(pred, actual)\n",
    "    def lossFn(pred, actual):\n",
    "        penalty = 0.0\n",
    "        if penalize:\n",
    "            for star in pred:\n",
    "                if star[feature_id_dict['teff_val']] < teff_zero_norm:\n",
    "                    penalty += 1\n",
    "\n",
    "                ra = star[feature_id_dict['ra']]\n",
    "                if ra < ra_zero_norm or ra > ra_360_norm:\n",
    "                    penalty += 1\n",
    "\n",
    "        return mse(pred, actual) + penalty\n",
    "    return lossFn"
   ]
  },
  {
   "cell_type": "code",
   "execution_count": 55,
   "metadata": {},
   "outputs": [
    {
     "data": {
      "text/plain": [
       "2659"
      ]
     },
     "execution_count": 55,
     "metadata": {},
     "output_type": "execute_result"
    }
   ],
   "source": [
    "### Count model params\n",
    "model_parameters = filter(lambda p: p.requires_grad, model_1.parameters())\n",
    "params = sum([np.prod(p.size()) for p in model_parameters])\n",
    "params"
   ]
  },
  {
   "cell_type": "code",
   "execution_count": 56,
   "metadata": {
    "scrolled": false
   },
   "outputs": [
    {
     "name": "stderr",
     "output_type": "stream",
     "text": [
      "\r",
      "                                                                               \r",
      "\r",
      "N/A% (0 of 19643) |                      | Elapsed Time: 0:00:00 ETA:  --:--:--"
     ]
    },
    {
     "name": "stdout",
     "output_type": "stream",
     "text": [
      "Starting Epoch #1\n"
     ]
    },
    {
     "name": "stderr",
     "output_type": "stream",
     "text": [
      "100% (19643 of 19643) |##################| Elapsed Time: 0:01:23 Time:  0:01:23\n",
      "N/A% (0 of 19643) |                      | Elapsed Time: 0:00:00 ETA:  --:--:--"
     ]
    },
    {
     "name": "stdout",
     "output_type": "stream",
     "text": [
      "epoch 1/30, training loss = 16.23457625, val loss = 7.33054045\n",
      "\n",
      "Starting Epoch #2\n"
     ]
    },
    {
     "name": "stderr",
     "output_type": "stream",
     "text": [
      "100% (19643 of 19643) |##################| Elapsed Time: 0:01:22 Time:  0:01:22\n",
      "N/A% (0 of 19643) |                      | Elapsed Time: 0:00:00 ETA:  --:--:--"
     ]
    },
    {
     "name": "stdout",
     "output_type": "stream",
     "text": [
      "epoch 2/30, training loss = 7.84066837, val loss = 5.72392460\n",
      "\n",
      "Starting Epoch #3\n"
     ]
    },
    {
     "name": "stderr",
     "output_type": "stream",
     "text": [
      "100% (19643 of 19643) |##################| Elapsed Time: 0:01:22 Time:  0:01:22\n",
      "  0% (21 of 19643) |                     | Elapsed Time: 0:00:00 ETA:   0:01:33"
     ]
    },
    {
     "name": "stdout",
     "output_type": "stream",
     "text": [
      "epoch 3/30, training loss = 6.85769403, val loss = 5.38210917\n",
      "\n",
      "Starting Epoch #4\n"
     ]
    },
    {
     "name": "stderr",
     "output_type": "stream",
     "text": [
      "100% (19643 of 19643) |##################| Elapsed Time: 0:01:20 Time:  0:01:20\n",
      "N/A% (0 of 19643) |                      | Elapsed Time: 0:00:00 ETA:  --:--:--"
     ]
    },
    {
     "name": "stdout",
     "output_type": "stream",
     "text": [
      "epoch 4/30, training loss = 6.18041190, val loss = 5.47884456\n",
      "\n",
      "Starting Epoch #5\n"
     ]
    },
    {
     "name": "stderr",
     "output_type": "stream",
     "text": [
      "100% (19643 of 19643) |##################| Elapsed Time: 0:01:19 Time:  0:01:19\n",
      "N/A% (0 of 19643) |                      | Elapsed Time: 0:00:00 ETA:  --:--:--"
     ]
    },
    {
     "name": "stdout",
     "output_type": "stream",
     "text": [
      "epoch 5/30, training loss = 5.22808690, val loss = 4.07666388\n",
      "\n",
      "Starting Epoch #6\n"
     ]
    },
    {
     "name": "stderr",
     "output_type": "stream",
     "text": [
      "100% (19643 of 19643) |##################| Elapsed Time: 0:01:21 Time:  0:01:21\n",
      "  0% (23 of 19643) |                     | Elapsed Time: 0:00:00 ETA:   0:01:26"
     ]
    },
    {
     "name": "stdout",
     "output_type": "stream",
     "text": [
      "epoch 6/30, training loss = 4.92119474, val loss = 5.18893478\n",
      "\n",
      "Starting Epoch #7\n"
     ]
    },
    {
     "name": "stderr",
     "output_type": "stream",
     "text": [
      "100% (19643 of 19643) |##################| Elapsed Time: 0:01:23 Time:  0:01:23\n",
      "N/A% (0 of 19643) |                      | Elapsed Time: 0:00:00 ETA:  --:--:--"
     ]
    },
    {
     "name": "stdout",
     "output_type": "stream",
     "text": [
      "epoch 7/30, training loss = 3.94342725, val loss = 3.84217302\n",
      "\n",
      "Starting Epoch #8\n"
     ]
    },
    {
     "name": "stderr",
     "output_type": "stream",
     "text": [
      "100% (19643 of 19643) |##################| Elapsed Time: 0:01:19 Time:  0:01:19\n",
      "N/A% (0 of 19643) |                      | Elapsed Time: 0:00:00 ETA:  --:--:--"
     ]
    },
    {
     "name": "stdout",
     "output_type": "stream",
     "text": [
      "epoch 8/30, training loss = 3.89848125, val loss = 5.77443302\n",
      "\n",
      "Starting Epoch #9\n"
     ]
    },
    {
     "name": "stderr",
     "output_type": "stream",
     "text": [
      "100% (19643 of 19643) |##################| Elapsed Time: 0:01:17 Time:  0:01:17\n",
      "N/A% (0 of 19643) |                      | Elapsed Time: 0:00:00 ETA:  --:--:--"
     ]
    },
    {
     "name": "stdout",
     "output_type": "stream",
     "text": [
      "epoch 9/30, training loss = 3.67481413, val loss = 4.20946212\n",
      "\n",
      "Starting Epoch #10\n"
     ]
    },
    {
     "name": "stderr",
     "output_type": "stream",
     "text": [
      "100% (19643 of 19643) |##################| Elapsed Time: 0:01:17 Time:  0:01:17\n",
      "  0% (27 of 19643) |                     | Elapsed Time: 0:00:00 ETA:   0:01:14"
     ]
    },
    {
     "name": "stdout",
     "output_type": "stream",
     "text": [
      "epoch 10/30, training loss = 3.71590558, val loss = 3.80291365\n",
      "\n",
      "Starting Epoch #11\n"
     ]
    },
    {
     "name": "stderr",
     "output_type": "stream",
     "text": [
      "100% (19643 of 19643) |##################| Elapsed Time: 0:01:15 Time:  0:01:15\n",
      "  0% (27 of 19643) |                     | Elapsed Time: 0:00:00 ETA:   0:01:14"
     ]
    },
    {
     "name": "stdout",
     "output_type": "stream",
     "text": [
      "epoch 11/30, training loss = 3.53620193, val loss = 6.06133921\n",
      "\n",
      "Starting Epoch #12\n"
     ]
    },
    {
     "name": "stderr",
     "output_type": "stream",
     "text": [
      "100% (19643 of 19643) |##################| Elapsed Time: 0:01:17 Time:  0:01:17\n",
      "N/A% (0 of 19643) |                      | Elapsed Time: 0:00:00 ETA:  --:--:--"
     ]
    },
    {
     "name": "stdout",
     "output_type": "stream",
     "text": [
      "epoch 12/30, training loss = 3.62568914, val loss = 4.31759923\n",
      "\n",
      "Starting Epoch #13\n"
     ]
    },
    {
     "name": "stderr",
     "output_type": "stream",
     "text": [
      "100% (19643 of 19643) |##################| Elapsed Time: 0:01:19 Time:  0:01:19\n",
      "N/A% (0 of 19643) |                      | Elapsed Time: 0:00:00 ETA:  --:--:--"
     ]
    },
    {
     "name": "stdout",
     "output_type": "stream",
     "text": [
      "epoch 13/30, training loss = 3.00897872, val loss = 3.40490980\n",
      "\n",
      "Starting Epoch #14\n"
     ]
    },
    {
     "name": "stderr",
     "output_type": "stream",
     "text": [
      "100% (19643 of 19643) |##################| Elapsed Time: 0:01:27 Time:  0:01:27\n",
      "N/A% (0 of 19643) |                      | Elapsed Time: 0:00:00 ETA:  --:--:--"
     ]
    },
    {
     "name": "stdout",
     "output_type": "stream",
     "text": [
      "epoch 14/30, training loss = 3.00514919, val loss = 3.91229719\n",
      "\n",
      "Starting Epoch #15\n"
     ]
    },
    {
     "name": "stderr",
     "output_type": "stream",
     "text": [
      "100% (19643 of 19643) |##################| Elapsed Time: 0:01:26 Time:  0:01:26\n",
      "N/A% (0 of 19643) |                      | Elapsed Time: 0:00:00 ETA:  --:--:--"
     ]
    },
    {
     "name": "stdout",
     "output_type": "stream",
     "text": [
      "epoch 15/30, training loss = 2.99304261, val loss = 3.41620131\n",
      "\n",
      "Starting Epoch #16\n"
     ]
    },
    {
     "name": "stderr",
     "output_type": "stream",
     "text": [
      "100% (19643 of 19643) |##################| Elapsed Time: 0:01:22 Time:  0:01:22\n",
      "N/A% (0 of 19643) |                      | Elapsed Time: 0:00:00 ETA:  --:--:--"
     ]
    },
    {
     "name": "stdout",
     "output_type": "stream",
     "text": [
      "epoch 16/30, training loss = 2.98796513, val loss = 3.42148688\n",
      "\n",
      "Starting Epoch #17\n"
     ]
    },
    {
     "name": "stderr",
     "output_type": "stream",
     "text": [
      "100% (19643 of 19643) |##################| Elapsed Time: 0:01:19 Time:  0:01:19\n",
      "N/A% (0 of 19643) |                      | Elapsed Time: 0:00:00 ETA:  --:--:--"
     ]
    },
    {
     "name": "stdout",
     "output_type": "stream",
     "text": [
      "epoch 17/30, training loss = 2.88221293, val loss = 3.32716097\n",
      "\n",
      "Starting Epoch #18\n"
     ]
    },
    {
     "name": "stderr",
     "output_type": "stream",
     "text": [
      "100% (19643 of 19643) |##################| Elapsed Time: 0:01:14 Time:  0:01:14\n",
      "  0% (25 of 19643) |                     | Elapsed Time: 0:00:00 ETA:   0:01:18"
     ]
    },
    {
     "name": "stdout",
     "output_type": "stream",
     "text": [
      "epoch 18/30, training loss = 2.89297818, val loss = 3.19245213\n",
      "\n",
      "Starting Epoch #19\n"
     ]
    },
    {
     "name": "stderr",
     "output_type": "stream",
     "text": [
      "100% (19643 of 19643) |##################| Elapsed Time: 0:01:14 Time:  0:01:14\n",
      "N/A% (0 of 19643) |                      | Elapsed Time: 0:00:00 ETA:  --:--:--"
     ]
    },
    {
     "name": "stdout",
     "output_type": "stream",
     "text": [
      "epoch 19/30, training loss = 2.67224929, val loss = 3.07487379\n",
      "\n",
      "Starting Epoch #20\n"
     ]
    },
    {
     "name": "stderr",
     "output_type": "stream",
     "text": [
      "100% (19643 of 19643) |##################| Elapsed Time: 0:01:15 Time:  0:01:15\n",
      "  0% (26 of 19643) |                     | Elapsed Time: 0:00:00 ETA:   0:01:16"
     ]
    },
    {
     "name": "stdout",
     "output_type": "stream",
     "text": [
      "epoch 20/30, training loss = 2.61805983, val loss = 3.42467741\n",
      "\n",
      "Starting Epoch #21\n"
     ]
    },
    {
     "name": "stderr",
     "output_type": "stream",
     "text": [
      "100% (19643 of 19643) |##################| Elapsed Time: 0:01:18 Time:  0:01:18\n",
      "  0% (24 of 19643) |                     | Elapsed Time: 0:00:00 ETA:   0:01:22"
     ]
    },
    {
     "name": "stdout",
     "output_type": "stream",
     "text": [
      "epoch 21/30, training loss = 2.57870660, val loss = 2.99770759\n",
      "\n",
      "Starting Epoch #22\n"
     ]
    },
    {
     "name": "stderr",
     "output_type": "stream",
     "text": [
      "100% (19643 of 19643) |##################| Elapsed Time: 0:01:22 Time:  0:01:22\n",
      "N/A% (0 of 19643) |                      | Elapsed Time: 0:00:00 ETA:  --:--:--"
     ]
    },
    {
     "name": "stdout",
     "output_type": "stream",
     "text": [
      "epoch 22/30, training loss = 2.56865566, val loss = 2.98274408\n",
      "\n",
      "Starting Epoch #23\n"
     ]
    },
    {
     "name": "stderr",
     "output_type": "stream",
     "text": [
      "100% (19643 of 19643) |##################| Elapsed Time: 0:01:18 Time:  0:01:18\n",
      "N/A% (0 of 19643) |                      | Elapsed Time: 0:00:00 ETA:  --:--:--"
     ]
    },
    {
     "name": "stdout",
     "output_type": "stream",
     "text": [
      "epoch 23/30, training loss = 2.59779391, val loss = 3.64059112\n",
      "\n",
      "Starting Epoch #24\n"
     ]
    },
    {
     "name": "stderr",
     "output_type": "stream",
     "text": [
      "100% (19643 of 19643) |##################| Elapsed Time: 0:01:18 Time:  0:01:18\n",
      "N/A% (0 of 19643) |                      | Elapsed Time: 0:00:00 ETA:  --:--:--"
     ]
    },
    {
     "name": "stdout",
     "output_type": "stream",
     "text": [
      "epoch 24/30, training loss = 2.54442818, val loss = 2.91744654\n",
      "\n",
      "Starting Epoch #25\n"
     ]
    },
    {
     "name": "stderr",
     "output_type": "stream",
     "text": [
      "100% (19643 of 19643) |##################| Elapsed Time: 0:12:34 Time:  0:12:34\n",
      "N/A% (0 of 19643) |                      | Elapsed Time: 0:00:00 ETA:  --:--:--"
     ]
    },
    {
     "name": "stdout",
     "output_type": "stream",
     "text": [
      "epoch 25/30, training loss = 2.43601538, val loss = 3.41799425\n",
      "\n",
      "Starting Epoch #26\n"
     ]
    },
    {
     "name": "stderr",
     "output_type": "stream",
     "text": [
      "100% (19643 of 19643) |##################| Elapsed Time: 0:05:50 Time:  0:05:50\n",
      "N/A% (0 of 19643) |                      | Elapsed Time: 0:00:00 ETA:  --:--:--"
     ]
    },
    {
     "name": "stdout",
     "output_type": "stream",
     "text": [
      "epoch 26/30, training loss = 2.44757715, val loss = 2.86352908\n",
      "\n",
      "Starting Epoch #27\n"
     ]
    },
    {
     "name": "stderr",
     "output_type": "stream",
     "text": [
      "100% (19643 of 19643) |##################| Elapsed Time: 0:01:27 Time:  0:01:27\n",
      "N/A% (0 of 19643) |                      | Elapsed Time: 0:00:00 ETA:  --:--:--"
     ]
    },
    {
     "name": "stdout",
     "output_type": "stream",
     "text": [
      "epoch 27/30, training loss = 2.40494460, val loss = 3.46277880\n",
      "\n",
      "Starting Epoch #28\n"
     ]
    },
    {
     "name": "stderr",
     "output_type": "stream",
     "text": [
      "100% (19643 of 19643) |##################| Elapsed Time: 0:01:16 Time:  0:01:16\n",
      "N/A% (0 of 19643) |                      | Elapsed Time: 0:00:00 ETA:  --:--:--"
     ]
    },
    {
     "name": "stdout",
     "output_type": "stream",
     "text": [
      "epoch 28/30, training loss = 2.39779279, val loss = 2.98485107\n",
      "\n",
      "Starting Epoch #29\n"
     ]
    },
    {
     "name": "stderr",
     "output_type": "stream",
     "text": [
      "100% (19643 of 19643) |##################| Elapsed Time: 0:01:17 Time:  0:01:17\n",
      "N/A% (0 of 19643) |                      | Elapsed Time: 0:00:00 ETA:  --:--:--"
     ]
    },
    {
     "name": "stdout",
     "output_type": "stream",
     "text": [
      "epoch 29/30, training loss = 2.37030507, val loss = 3.21269177\n",
      "\n",
      "Starting Epoch #30\n"
     ]
    },
    {
     "name": "stderr",
     "output_type": "stream",
     "text": [
      "100% (19643 of 19643) |##################| Elapsed Time: 0:01:17 Time:  0:01:17\n"
     ]
    },
    {
     "name": "stdout",
     "output_type": "stream",
     "text": [
      "epoch 30/30, training loss = 2.37807294, val loss = 2.93102705\n",
      "\n",
      "Done training!\n"
     ]
    }
   ],
   "source": [
    "### TRAIN\n",
    "train(model_1, num_epochs = 30, batch_size = 128, lr_scheduler = lr_sched,\n",
    "      loss_fn = customLossFnGen(penalize = False))"
   ]
  },
  {
   "cell_type": "code",
   "execution_count": 57,
   "metadata": {},
   "outputs": [],
   "source": [
    "### Push test set through model and scale back to normal\n",
    "predicted_norm = model_1(x_test_norm_tensor).detach().numpy()\n",
    "predicted = scaler.inverse_transform(predicted_norm)"
   ]
  },
  {
   "cell_type": "code",
   "execution_count": 58,
   "metadata": {},
   "outputs": [],
   "source": [
    "model_desc = '16-16-15-14-13-12-11-12-13-14-15-16-16'"
   ]
  },
  {
   "cell_type": "code",
   "execution_count": 59,
   "metadata": {
    "scrolled": false
   },
   "outputs": [],
   "source": [
    "### Distribution graphing function\n",
    "\n",
    "def graphFeatures(predicted, xlims = None, save_fig = False):\n",
    "    def compareFeatureDistr(mainPlot, xlims = None, f_name = None, f_id = None,\n",
    "                            label = False, bins = 70, kde = False):\n",
    "        if f_id is None and f_name is None: raise Exception\n",
    "        elif f_id is None: feature_id = feature_id_dict[f_name]\n",
    "        elif f_name is None: f_name = feature_id_dict[f_id]\n",
    "\n",
    "        mainPlot.flat[f_id].set_title(f_name, fontsize=20, pad=10)\n",
    "        mainPlot.flat[f_id].set(xlabel=f_name, ylabel='')\n",
    "\n",
    "        if xlims is not None and f_name in xlims:\n",
    "            mainPlot.flat[f_id].set_xlim(xlims[f_name])\n",
    "            if bins is not None:\n",
    "                binwidth = (xlims[f_name][1] - xlims[f_name][0]) / bins\n",
    "                bins = np.arange(xlims[f_name][0], xlims[f_name][1] + binwidth, binwidth)\n",
    "\n",
    "        sns.distplot(predicted.T[f_id], ax=mainPlot.flat[f_id], label=\"Model Distribution\" if label else None,\n",
    "                    bins = bins, kde = kde)\n",
    "        sns.distplot(x_test.T[f_id], ax=mainPlot.flat[f_id], label=\"Actual Distribution\" if label else None,\n",
    "                    bins = bins, kde = kde)\n",
    "\n",
    "        if xlims is not None and f_name in xlims: mainPlot.flat[f_id].set_xlim(xlims[f_name])\n",
    "\n",
    "    fig, mainPlot = plt.subplots(math.ceil(num_fields/2), 2,figsize=(15,45))\n",
    "    fig.suptitle(\"Actual vs Model Feature Distributions on x_test\", fontsize=25, y=.95)\n",
    "\n",
    "    for i in range(num_fields):\n",
    "        if i == 0: compareFeatureDistr(mainPlot, xlims, f_id = i, label = True)\n",
    "        else: compareFeatureDistr(mainPlot, xlims, f_id = i)\n",
    "\n",
    "    plt.subplots_adjust(top=0.92, bottom=0.1, left=0.10, right=0.95, hspace=0.6, wspace=0.2)    \n",
    "    fig.legend()\n",
    "    plt.show()\n",
    "\n",
    "    if save_fig:\n",
    "        fig.savefig('feature_distr_noerr_' + model_desc + '_' + time.strftime(\"%Y%m%d-%H%M%S\") + '.png', quality=100)"
   ]
  },
  {
   "cell_type": "code",
   "execution_count": 61,
   "metadata": {
    "scrolled": false
   },
   "outputs": [
    {
     "data": {
      "image/png": "[encoded data removed]",
      "text/plain": [
       "<Figure size 1080x3240 with 16 Axes>"
      ]
     },
     "metadata": {
      "needs_background": "light"
     },
     "output_type": "display_data"
    }
   ],
   "source": [
    "#     xlims = {\n",
    "#         \"dec\"        : [-100,100],\n",
    "#         \"pmra\"       : [-100,100],\n",
    "#         \"pmdec\"      : [-75,75],\n",
    "#         \"parallax\"   : [0,10],\n",
    "#         \"phot_g_mean_flux\"  : [-.1e6,4e6],\n",
    "#         \"phot_bp_mean_flux\" : [-.1e6,2e6],\n",
    "#         \"phot_rp_mean_flux\" : [-.1e6,2e6],\n",
    "#         \"radial_velocity\"   : [-200,200],\n",
    "#         \"radius_val\" : [0,50],\n",
    "#         \"lum_val\"    : [0,300]\n",
    "#     }\n",
    "xlims = {\n",
    "    \"ra\"         : [0,365],\n",
    "    \"dec\"        : [-100,100],\n",
    "    \"pmra\"       : [-100,100],\n",
    "    \"pmdec\"      : [-75,75],\n",
    "    \"parallax\"   : [0,5],\n",
    "    \"phot_g_mean_flux\"  : [-.1e6,4e6],\n",
    "    \"phot_bp_mean_flux\" : [-.1e6,2e6],\n",
    "    \"phot_rp_mean_flux\" : [-.1e6,2e6],\n",
    "    \"bp_rp\" : [0,5.5],\n",
    "    \"bp_g\" : [0,4],\n",
    "    \"g_rp\" : [0,2],\n",
    "    \"radial_velocity\"   : [-200,200],\n",
    "    \"teff_val\" : [3000, 8500],\n",
    "    \"a_g_val\" : [0,4],\n",
    "    \"radius_val\" : [0,50],\n",
    "    \"lum_val\"    : [0,300]\n",
    "}\n",
    "\n",
    "\n",
    "graphFeatures(predicted, xlims = xlims, save_fig = True)"
   ]
  },
  {
   "cell_type": "code",
   "execution_count": 357,
   "metadata": {},
   "outputs": [
    {
     "data": {
      "text/plain": [
       "array([0.99987296, 0.65678946, 0.61776761, 0.73879322, 0.00842378,\n",
       "       0.00137155, 0.00147482, 0.00156895, 0.33371086, 0.22727072,\n",
       "       0.30420397, 0.74210166, 0.4623365 , 0.29784884, 0.02498841,\n",
       "       0.00195816])"
      ]
     },
     "execution_count": 357,
     "metadata": {},
     "output_type": "execute_result"
    }
   ],
   "source": [
    "predicted_norm[300]"
   ]
  },
  {
   "cell_type": "code",
   "execution_count": 521,
   "metadata": {},
   "outputs": [
    {
     "data": {
      "text/plain": [
       "319.23262929601526"
      ]
     },
     "execution_count": 521,
     "metadata": {},
     "output_type": "execute_result"
    }
   ],
   "source": [
    "max(predicted.T[feature_id_dict['ra']])"
   ]
  },
  {
   "cell_type": "code",
   "execution_count": null,
   "metadata": {},
   "outputs": [],
   "source": []
  }
 ],
 "metadata": {
  "kernelspec": {
   "display_name": "Python 3",
   "language": "python",
   "name": "python3"
  },
  "language_info": {
   "codemirror_mode": {
    "name": "ipython",
    "version": 3
   },
   "file_extension": ".py",
   "mimetype": "text/x-python",
   "name": "python",
   "nbconvert_exporter": "python",
   "pygments_lexer": "ipython3",
   "version": "3.8.3"
  }
 },
 "nbformat": 4,
 "nbformat_minor": 4
}
